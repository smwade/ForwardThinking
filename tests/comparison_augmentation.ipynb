{
 "cells": [
  {
   "cell_type": "markdown",
   "metadata": {
    "deletable": true,
    "editable": true
   },
   "source": [
    "# Forward Thinking Comparison\n",
    "##### Sean Wade"
   ]
  },
  {
   "cell_type": "code",
   "execution_count": 1,
   "metadata": {
    "collapsed": false,
    "deletable": true,
    "editable": true,
    "scrolled": true
   },
   "outputs": [
    {
     "name": "stderr",
     "output_type": "stream",
     "text": [
      "Using TensorFlow backend.\n"
     ]
    },
    {
     "data": {
      "text/html": [
       "<link href='http://fonts.googleapis.com/css?family=Fenix' rel='stylesheet' type='text/css'>\n",
       "<link href=\"https://fonts.googleapis.com/css?family=Montserrat:300,400,500|Open+Sans\" rel=\"stylesheet\">\n",
       "<link href='http://fonts.googleapis.com/css?family=Source+Code+Pro:300,400' rel='stylesheet' type='text/css'>\n",
       "<link href=\"https://fonts.googleapis.com/css?family=Raleway:200,300,400\" rel=\"stylesheet\" type='text/ccs'>\n",
       "<style>\n",
       "    .sub-title {\n",
       "      font-weight: bold;\n",
       "      text-align: left;\n",
       "      color: #d65b4f;\n",
       "    }\n",
       "    @font-face {\n",
       "        font-family: \"Computer Modern\";\n",
       "        src: url('http://mirrors.ctan.org/fonts/cm-unicode/fonts/otf/cmunss.otf');\n",
       "    }\n",
       "    h1 {\n",
       "        font-family: 'Montserrat', sans-serif;\n",
       "  font-weight:300;\n",
       "    }\n",
       "    h1.main_header {\n",
       "        font-family: 'Montserrat', sans-serif;\n",
       "  font-size: 45px !important;\n",
       "  font-weight:300 !important;\n",
       "  color: #2874A6 !important;\n",
       "    }\n",
       "    h2 {\n",
       "        font-family: 'Montserrat', sans-serif;\n",
       "    }\n",
       "    h2.section_header {\n",
       "        font-family: 'Montserrat', sans-serif;\n",
       "  font-size: 25px !important;\n",
       "  font-weight:400 !important;\n",
       "  color: #148F77 !important;\n",
       "    }\n",
       "\n",
       "    h3{\n",
       "  font-family: 'Montserrat', sans-serif;\n",
       "        margin-top:12px;\n",
       "        margin-bottom: 3px;\n",
       "       }\n",
       "    h4{\n",
       "  font-family: 'Montserrat', sans-serif;\n",
       "    }\n",
       "    h5 {\n",
       "        font-family: 'Montserrat', sans-serif;\n",
       "    }\n",
       "    div.text_cell_render{\n",
       "        font-family: 'Open Sans', sans-serif;\n",
       "  line-height: 24px;\n",
       "    }\n",
       "    .CodeMirror{\n",
       "            font-family: \"Source Code Pro\";\n",
       "      font-size: 95%;\n",
       "    }\n",
       "\n",
       "\n",
       "\n",
       "\n",
       "    .text_cell_render h1 {\n",
       "        font-weight: 200;\n",
       "        font-size: 50pt;\n",
       "    line-height: 100%;\n",
       "        color:#454851;\n",
       "        margin-top: 0.5em;\n",
       "        display: block;\n",
       "  }\n",
       "  .text_cell_render h2 {\n",
       "        font-weight: 400;\n",
       "    color:#252839;\n",
       "        display: block;\n",
       "    }\n",
       "  .text_cell_render h3 {\n",
       "        font-weight: 300;\n",
       "        display: block;\n",
       "    }\n",
       "    .text_cell_render h4 {\n",
       "        font-weight: 300;\n",
       "  color:#CD2305;\n",
       "        display: block;\n",
       "    }\n",
       "    .text_cell_render h5 {\n",
       "        font-weight: 300;\n",
       "        font-size: 16pt;\n",
       "        color: #CD2305;\n",
       "        font-style: italic;\n",
       "        margin-bottom: .5em;\n",
       "        margin-top: 0.5em;\n",
       "        display: block;\n",
       "    }\n",
       "\n",
       "    .warning{\n",
       "        color: rgb( 240, 20, 20 )\n",
       "        }\n",
       "</style>\n"
      ],
      "text/plain": [
       "<IPython.core.display.HTML object>"
      ]
     },
     "execution_count": 1,
     "metadata": {},
     "output_type": "execute_result"
    }
   ],
   "source": [
    "from forwardThinking.datasets import load_mnist\n",
    "from forwardThinking.models import PassForwardThinking, ForwardThinking, DNN\n",
    "import numpy as np\n",
    "from itertools import product\n",
    "\n",
    "from matplotlib import pyplot as plt\n",
    "import seaborn as sns\n",
    "%matplotlib inline\n",
    "\n",
    "from IPython.core.display import HTML\n",
    "import urllib2\n",
    "HTML(open(\"./jupyter.css\", \"r\").read())"
   ]
  },
  {
   "cell_type": "code",
   "execution_count": 2,
   "metadata": {
    "collapsed": false
   },
   "outputs": [],
   "source": [
    "def single_pixel_tr(X, y, img_size=(28,28)):\n",
    "        n_samples, dim_data = X.shape\n",
    "        X_out = np.empty((n_samples*9, dim_data))\n",
    "        y_out = np.zeros(n_samples*9)\n",
    "        for k in xrange(10):\n",
    "            k_image = X[k,:].reshape(img_size)\n",
    "            for i,j in product([-1,0,1], [-1,0,1]):\n",
    "                i_row = 3*(i+1)\n",
    "                image = np.zeros((img_size[0]+2, img_size[1]+2))\n",
    "                image[1+i:1+i+img_size[0], 1+j:1+j+img_size[1]] = k_image\n",
    "                X_out[9*k+i_row+j+1] = image[1:1+img_size[0],1:1+img_size[1] ].flatten()\n",
    "                y_out[9*k+i_row+j+1] = y[k]\n",
    "        return X_out, y_out\n",
    "    \n",
    "def load_mnist_aug(flatten=True, one_hot_labels=True):\n",
    "    \"\"\" Load mnist dataset using keras.\"\"\"\n",
    "    from keras.datasets import mnist\n",
    "    from keras.utils import np_utils\n",
    "\n",
    "    (x_train, y_train_num), (x_test, y_test_num) = mnist.load_data()\n",
    "    (x_train, y_train_num) = single_pixel_tr(x_train.reshape(60000,784), y_train_num, img_size=(28,28))\n",
    "    if flatten:\n",
    "        flatten_shape = np.prod(x_train.shape[1:])\n",
    "        x_train = x_train.reshape(x_train.shape[0], flatten_shape).astype('float32')\n",
    "        x_test = x_test.reshape(x_test.shape[0], flatten_shape).astype('float32')\n",
    "    else:\n",
    "        x_train = x_train.reshape(x_train.shape[0], 28, 28, 1).astype('float32')\n",
    "        x_test = x_test.reshape(x_test.shape[0], 28, 28, 1).astype('float32')\n",
    "\n",
    "    x_train /= 255\n",
    "    x_test /= 255\n",
    "    y_train = np_utils.to_categorical(y_train_num, 10)\n",
    "    y_test = np_utils.to_categorical(y_test_num, 10)\n",
    "\n",
    "    if not one_hot_labels:\n",
    "        y_train = y_train_num\n",
    "        y_test = y_test_num\n",
    "    \n",
    "    return x_train, y_train, x_test, y_test"
   ]
  },
  {
   "cell_type": "code",
   "execution_count": 3,
   "metadata": {
    "collapsed": false,
    "deletable": true,
    "editable": true,
    "scrolled": true
   },
   "outputs": [],
   "source": [
    "%load_ext autoreload\n",
    "%autoreload 2"
   ]
  },
  {
   "cell_type": "markdown",
   "metadata": {
    "deletable": true,
    "editable": true
   },
   "source": [
    "### Helper Functions"
   ]
  },
  {
   "cell_type": "code",
   "execution_count": 4,
   "metadata": {
    "collapsed": true,
    "deletable": true,
    "editable": true
   },
   "outputs": [],
   "source": [
    "def plot_acc_loss(acc, loss, val_acc=None, val_loss=None):\n",
    "    plt.figure(figsize=(15,7))\n",
    "    plt.subplot(121)\n",
    "    plt.title('Accuracy')\n",
    "    plt.plot(acc)\n",
    "    if val_acc != None:\n",
    "        plt.plot(val_acc)\n",
    "    plt.subplot(122)\n",
    "    plt.title('Loss')\n",
    "    plt.plot(loss)\n",
    "    if val_loss != None:\n",
    "        plt.plot(val_loss)\n",
    "    plt.tight_layout()\n",
    "    plt.show()"
   ]
  },
  {
   "cell_type": "code",
   "execution_count": 5,
   "metadata": {
    "collapsed": true
   },
   "outputs": [],
   "source": [
    "def plot_all(model_list):\n",
    "    plt.figure(figsize=(15,15))\n",
    "    plt.subplot(221)\n",
    "    plt.title('Train Accuracy')\n",
    "    plt.subplot(222)\n",
    "    plt.title('Test Accuracy')\n",
    "    plt.subplot(223)\n",
    "    plt.title('Train Loss')\n",
    "    plt.subplot(224)\n",
    "    plt.title('Test Loss')\n",
    "    \n",
    "    color = plt.cm.viridis_r(np.linspace(0,1,len(model_list)))\n",
    "    for x, c in zip(model_list, color):\n",
    "        name, acc, loss, val_acc, val_loss = x\n",
    "        plt.subplot(221)\n",
    "        plt.plot(acc, label=name, c=c)\n",
    "        \n",
    "        plt.subplot(222)\n",
    "        plt.plot(val_acc, label=name, c=c)\n",
    "        \n",
    "        plt.subplot(223)\n",
    "        plt.plot(loss, label=name, c=c)\n",
    "        \n",
    "        plt.subplot(224)\n",
    "        plt.plot(val_loss, label=name, c=c)\n",
    "    \n",
    "    plt.legend(loc='best')\n",
    "    plt.tight_layout()\n",
    "    plt.savefig('/home/seanwade/Desktop/comarison.png')\n",
    "    plt.show()\n",
    "\n",
    "\n",
    "        \n",
    "        \n",
    "def make_tuple(name, acc, loss, val_acc=None, val_loss=None):\n",
    "    return (name, acc, loss, val_acc, val_loss)"
   ]
  },
  {
   "cell_type": "code",
   "execution_count": 6,
   "metadata": {
    "collapsed": true,
    "deletable": true,
    "editable": true
   },
   "outputs": [],
   "source": [
    "def model_summary(model):\n",
    "    print \"Model Name: %s\" % model.summary['model_name']\n",
    "    print \"Model Version: %-20s\" % model.summary['model_version']\n",
    "    print \"Training Time: %s\" % model.summary['training_time']\n",
    "    print \"Training Acc: %s\" % model.summary['accuracy'][-1]\n",
    "    print \"Testing Acc: %s\" % model.summary['val_accuracy'][-1]"
   ]
  },
  {
   "cell_type": "code",
   "execution_count": 7,
   "metadata": {
    "collapsed": false,
    "deletable": true,
    "editable": true
   },
   "outputs": [],
   "source": [
    "# Load the data\n",
    "x_train, y_train, x_test, y_test = load_mnist_aug()"
   ]
  },
  {
   "cell_type": "code",
   "execution_count": 9,
   "metadata": {
    "collapsed": false
   },
   "outputs": [
    {
     "ename": "NameError",
     "evalue": "name 'dnn' is not defined",
     "output_type": "error",
     "traceback": [
      "\u001b[0;31m---------------------------------------------------------------------------\u001b[0m",
      "\u001b[0;31mNameError\u001b[0m                                 Traceback (most recent call last)",
      "\u001b[0;32m<ipython-input-9-7b7049e6be73>\u001b[0m in \u001b[0;36m<module>\u001b[0;34m()\u001b[0m\n\u001b[1;32m      1\u001b[0m \u001b[0mplot_list\u001b[0m \u001b[0;34m=\u001b[0m \u001b[0;34m[\u001b[0m\u001b[0;34m]\u001b[0m\u001b[0;34m\u001b[0m\u001b[0m\n\u001b[0;32m----> 2\u001b[0;31m plot_list.append(make_tuple('DNN', dnn.summary['accuracy'], dnn.summary['loss'],\n\u001b[0m\u001b[1;32m      3\u001b[0m              dnn.summary['val_accuracy'], dnn.summary['val_loss']))\n\u001b[1;32m      4\u001b[0m plot_list.append(make_tuple('ForwardThinking', forward.summary['accuracy'], forward.summary['loss'],\n\u001b[1;32m      5\u001b[0m              forward.summary['val_accuracy'], forward.summary['val_loss']))\n",
      "\u001b[0;31mNameError\u001b[0m: name 'dnn' is not defined"
     ]
    }
   ],
   "source": [
    "plot_list = []\n",
    "plot_list.append(make_tuple('DNN', dnn.summary['accuracy'], dnn.summary['loss'],\n",
    "             dnn.summary['val_accuracy'], dnn.summary['val_loss']))\n",
    "plot_list.append(make_tuple('ForwardThinking', forward.summary['accuracy'], forward.summary['loss'],\n",
    "             forward.summary['val_accuracy'], forward.summary['val_loss']))\n",
    "plot_list.append(make_tuple('PassForward', passForward.summary['accuracy'], passForward.summary['loss'],\n",
    "             passForward.summary['val_accuracy'], passForward.summary['val_loss']))\n",
    "plot_list.append(make_tuple('Weight Freeze', passForwardFreeze.summary['accuracy'], passForwardFreeze.summary['loss'],\n",
    "             passForwardFreeze.summary['val_accuracy'], passForwardFreeze.summary['val_loss']))\n",
    "\n",
    "plot_all(plot_list)"
   ]
  },
  {
   "cell_type": "markdown",
   "metadata": {
    "deletable": true,
    "editable": true
   },
   "source": [
    "## DNN\n",
    "\n",
    "A simple DNN. No big deal."
   ]
  },
  {
   "cell_type": "code",
   "execution_count": null,
   "metadata": {
    "collapsed": false,
    "deletable": true,
    "editable": true
   },
   "outputs": [],
   "source": [
    "dnn = DNN([784, 100, 50, 10])\n",
    "dnn.fit(x_train, y_train, x_test, y_test, epochs=30, verbose=False)"
   ]
  },
  {
   "cell_type": "code",
   "execution_count": null,
   "metadata": {
    "collapsed": false,
    "deletable": true,
    "editable": true,
    "scrolled": false
   },
   "outputs": [],
   "source": [
    "plot_acc_loss(dnn.summary['accuracy'], dnn.summary['loss'],\n",
    "             dnn.summary['val_accuracy'], dnn.summary['val_loss'])"
   ]
  },
  {
   "cell_type": "code",
   "execution_count": null,
   "metadata": {
    "collapsed": false,
    "deletable": true,
    "editable": true
   },
   "outputs": [],
   "source": [
    "model_summary(dnn)"
   ]
  },
  {
   "cell_type": "markdown",
   "metadata": {
    "deletable": true,
    "editable": true
   },
   "source": [
    "## Forward Thinking\n",
    "\n",
    "Pass the data through a layer and into new uninitialized layer"
   ]
  },
  {
   "cell_type": "code",
   "execution_count": null,
   "metadata": {
    "collapsed": false,
    "deletable": true,
    "editable": true
   },
   "outputs": [],
   "source": [
    "forward = ForwardThinking([784, 100, 50, 10])\n",
    "forward.fit(x_train, y_train, x_test, y_test, epochs=10, verbose=False)"
   ]
  },
  {
   "cell_type": "code",
   "execution_count": null,
   "metadata": {
    "collapsed": false,
    "deletable": true,
    "editable": true
   },
   "outputs": [],
   "source": [
    "plot_acc_loss(forward.summary['accuracy'], forward.summary['loss'],\n",
    "             forward.summary['val_accuracy'], forward.summary['val_loss'])"
   ]
  },
  {
   "cell_type": "code",
   "execution_count": null,
   "metadata": {
    "collapsed": false,
    "deletable": true,
    "editable": true
   },
   "outputs": [],
   "source": [
    "model_summary(forward)"
   ]
  },
  {
   "cell_type": "markdown",
   "metadata": {
    "deletable": true,
    "editable": true
   },
   "source": [
    "## Pass Forward Thinking\n",
    "\n",
    "Train layerwise, but also keep connections from old data in classification."
   ]
  },
  {
   "cell_type": "code",
   "execution_count": null,
   "metadata": {
    "collapsed": false,
    "deletable": true,
    "editable": true
   },
   "outputs": [],
   "source": [
    "passForward = PassForwardThinking([784, 100, 50, 10], freeze=False)\n",
    "passForward.fit(x_train, y_train, x_test, y_test, epochs= 10, verbose=False)"
   ]
  },
  {
   "cell_type": "code",
   "execution_count": null,
   "metadata": {
    "collapsed": false,
    "deletable": true,
    "editable": true
   },
   "outputs": [],
   "source": [
    "plot_acc_loss(passForward.summary['accuracy'], passForward.summary['loss'],\n",
    "             passForward.summary['val_accuracy'], passForward.summary['val_loss'])"
   ]
  },
  {
   "cell_type": "code",
   "execution_count": null,
   "metadata": {
    "collapsed": false,
    "deletable": true,
    "editable": true
   },
   "outputs": [],
   "source": [
    "model_summary(passForward)"
   ]
  },
  {
   "cell_type": "markdown",
   "metadata": {
    "deletable": true,
    "editable": true
   },
   "source": [
    "## Pass Forward Thinking (with weight freezing)\n",
    "\n",
    "Train layerwise like before, however freeze the connections of old weights once learned."
   ]
  },
  {
   "cell_type": "code",
   "execution_count": null,
   "metadata": {
    "collapsed": false,
    "deletable": true,
    "editable": true
   },
   "outputs": [],
   "source": [
    "passForwardFreeze = PassForwardThinking([784, 100, 50, 10], freeze=True)\n",
    "passForwardFreeze.fit(x_train, y_train, x_test, y_test, epochs=10, verbose=False)"
   ]
  },
  {
   "cell_type": "code",
   "execution_count": null,
   "metadata": {
    "collapsed": false,
    "deletable": true,
    "editable": true
   },
   "outputs": [],
   "source": [
    "plot_acc_loss(passForwardFreeze.summary['accuracy'], passForwardFreeze.summary['loss'],\n",
    "             passForwardFreeze.summary['val_accuracy'], passForwardFreeze.summary['val_loss'])"
   ]
  },
  {
   "cell_type": "code",
   "execution_count": null,
   "metadata": {
    "collapsed": false,
    "deletable": true,
    "editable": true
   },
   "outputs": [],
   "source": [
    "model_summary(passForwardFreeze)"
   ]
  },
  {
   "cell_type": "markdown",
   "metadata": {
    "deletable": true,
    "editable": true
   },
   "source": [
    "## Observations\n",
    "\n",
    "These results are on just MNIST so the gains arn't huge, however the results are pretty sweet! Pass forward approaches overcome the issues with loosing accuracy when new layers are added. Further, freezing the layers serves as a way to regularize and speed it up. Both pass forwards are consistently better than a DNN with the same archetecture. It is also cool to note we can see when layers are added in the accuracy graph. There are increases at epochs 10 and 20. "
   ]
  }
 ],
 "metadata": {
  "kernelspec": {
   "display_name": "Python 2",
   "language": "python",
   "name": "python2"
  },
  "language_info": {
   "codemirror_mode": {
    "name": "ipython",
    "version": 2
   },
   "file_extension": ".py",
   "mimetype": "text/x-python",
   "name": "python",
   "nbconvert_exporter": "python",
   "pygments_lexer": "ipython2",
   "version": "2.7.13"
  }
 },
 "nbformat": 4,
 "nbformat_minor": 2
}
