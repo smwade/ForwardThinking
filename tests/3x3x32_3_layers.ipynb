{
 "cells": [
  {
   "cell_type": "markdown",
   "metadata": {},
   "source": [
    "1000 Iterations per layer\n",
    "\n",
    "3 Layers\n",
    "\n",
    "3x3 convolutions (32 per layer)\n",
    "\n",
    "\"Complete\" graph"
   ]
  },
  {
   "cell_type": "code",
   "execution_count": 1,
   "metadata": {
    "ExecuteTime": {
     "end_time": "2017-04-28T20:29:37.231273",
     "start_time": "2017-04-28T20:29:36.828389"
    },
    "collapsed": false
   },
   "outputs": [],
   "source": [
    "import numpy as np\n",
    "import tensorflow as tf\n",
    "import matplotlib.pyplot as plt\n",
    "from tqdm import tqdm_notebook\n",
    "from numba import jit\n",
    "import time\n",
    "\n",
    "def weight_variable(shape, name):\n",
    "    initial = tf.truncated_normal(shape, stddev=0.1)\n",
    "    return tf.Variable(initial, name=name)\n",
    "\n",
    "def bias_variable(shape, name):\n",
    "    initial = tf.constant(0.1, shape=shape)\n",
    "    return tf.Variable(initial, name=name)\n",
    "\n",
    "def conv2d(x, W, name):\n",
    "    return tf.nn.conv2d(x, W, strides=[1, 1, 1, 1], padding='SAME', name=name)\n",
    "\n",
    "def max_pool_2x2(x, name):\n",
    "    return tf.nn.max_pool(x, ksize=[1, 2, 2, 1],\n",
    "                        strides=[1, 2, 2, 1], padding='SAME', name=name)"
   ]
  },
  {
   "cell_type": "code",
   "execution_count": 2,
   "metadata": {
    "ExecuteTime": {
     "end_time": "2017-04-28T20:29:38.779946",
     "start_time": "2017-04-28T20:29:37.810909"
    },
    "collapsed": false
   },
   "outputs": [
    {
     "name": "stdout",
     "output_type": "stream",
     "text": [
      "Extracting MNIST_data/train-images-idx3-ubyte.gz\n",
      "Extracting MNIST_data/train-labels-idx1-ubyte.gz\n",
      "Extracting MNIST_data/t10k-images-idx3-ubyte.gz\n",
      "Extracting MNIST_data/t10k-labels-idx1-ubyte.gz\n"
     ]
    }
   ],
   "source": [
    "from tensorflow.examples.tutorials.mnist import input_data\n",
    "\n",
    "mnist = input_data.read_data_sets('MNIST_data', one_hot=True)"
   ]
  },
  {
   "cell_type": "code",
   "execution_count": 3,
   "metadata": {
    "ExecuteTime": {
     "end_time": "2017-04-28T20:37:43.730586",
     "start_time": "2017-04-28T20:37:41.847228"
    },
    "collapsed": false
   },
   "outputs": [],
   "source": [
    "def Layer1(num_filters,iters = 100):\n",
    "    t0 = time.time()\n",
    "    with tf.Graph().as_default() as g:\n",
    "        x = tf.placeholder(tf.float32, shape=[None, 784])\n",
    "        D0 = tf.reshape(x, [-1,28,28,1])\n",
    "        y = tf.placeholder(tf.float32, shape=[None, 10])\n",
    "        dropout = tf.placeholder(tf.float32)\n",
    "        \n",
    "        # Conv1\n",
    "        W_conv1 = weight_variable([3,3,1,num_filters], \"W_conv1\")\n",
    "        b_conv1 = bias_variable([num_filters], \"b_conv1\")\n",
    "        h_conv1 = tf.nn.relu(conv2d(D0, W_conv1, \"h_conv1\") + b_conv1)\n",
    "        h_conv1_drop = tf.nn.dropout(h_conv1, dropout)\n",
    "\n",
    "        # FC\n",
    "        fc1_flat = tf.contrib.layers.flatten(h_conv1_drop)\n",
    "        \n",
    "        W_fc1 = weight_variable([int(fc1_flat.get_shape()[1]), 10], \"W_fc1\")\n",
    "        b_fc1 = bias_variable([10], \"b_fc1\")\n",
    "\n",
    "        output = tf.matmul(fc1_flat, W_fc1) + b_fc1\n",
    "\n",
    "        cross_entropy = tf.reduce_mean(\n",
    "            tf.nn.softmax_cross_entropy_with_logits(labels=y, logits=output))\n",
    "        train_step = tf.train.AdamOptimizer(1e-4).minimize(cross_entropy)\n",
    "        correct_prediction = tf.equal(tf.argmax(output,1), tf.argmax(y,1))\n",
    "        accuracy = tf.reduce_mean(tf.cast(correct_prediction, tf.float32))\n",
    "\n",
    "    with tf.Session( graph = g) as sess:\n",
    "        sess.run(tf.global_variables_initializer())\n",
    "        t1 = time.time()\n",
    "        Initialize_time = t1-t0\n",
    "        before_test = []\n",
    "        after_test = []\n",
    "        test_accs = []\n",
    "        for i in tqdm_notebook(range(iters), desc=\"Layer1\"):\n",
    "            if i%100 == 0:\n",
    "                before_test.append(time.time())\n",
    "                test_batch = mnist.test.next_batch(1000)\n",
    "                test_accuracy = accuracy.eval(feed_dict={x:test_batch[0], y: test_batch[1], dropout: 1.0})\n",
    "                test_accs.append(test_accuracy)\n",
    "                print(\"step %d, test accuracy %g\"%(i, test_accuracy))\n",
    "                after_test.append(time.time())\n",
    "            batch = mnist.train.next_batch(50)    \n",
    "            sess.run(train_step, feed_dict={x: batch[0], y: batch[1], dropout: 0.5})\n",
    "            \n",
    "\n",
    "        print \"Final test accuracy %g\"%sess.run(accuracy, feed_dict={\n",
    "            x: mnist.test.images, y: mnist.test.labels, dropout: 1.0})\n",
    "\n",
    "        return sess.run([W_conv1, b_conv1, W_fc1, b_fc1]),test_accs,before_test,after_test,Initialize_time"
   ]
  },
  {
   "cell_type": "code",
   "execution_count": 4,
   "metadata": {
    "ExecuteTime": {
     "end_time": "2017-04-28T20:37:47.794975",
     "start_time": "2017-04-28T20:37:45.535199"
    },
    "collapsed": false
   },
   "outputs": [],
   "source": [
    "def Layer2(Wconv, bconv, Wfc, bfc, num_filters,iters = 100):\n",
    "    t0=time.time()\n",
    "    \n",
    "    with tf.Graph().as_default() as g:\n",
    "        x = tf.placeholder(tf.float32, shape=[None, 784])\n",
    "        D0 = tf.reshape(x, [-1,28,28,1])\n",
    "        y = tf.placeholder(tf.float32, shape=[None, 10])\n",
    "        dropout = tf.placeholder(tf.float32)\n",
    "                \n",
    "        # Pass Through\n",
    "        D1 = tf.nn.relu(conv2d(D0, Wconv, 'pass_through1') + bconv)\n",
    "        D_concat = tf.concat([D0, D1], axis=3)\n",
    "        \n",
    "        # Conv2\n",
    "        W_conv2 = weight_variable([3,3,int(D_concat.get_shape()[3]), num_filters], \"W_conv2\")\n",
    "        b_conv2 = bias_variable([num_filters], \"b_conv2\")\n",
    "        h_conv2 = tf.nn.relu(conv2d(D_concat, W_conv2, \"h_conv2\") + b_conv2)\n",
    "        h_conv2_drop = tf.nn.dropout(h_conv2, dropout)\n",
    "        \n",
    "        # FC\n",
    "        fc2_flat_1 = tf.contrib.layers.flatten(h_conv2_drop)\n",
    "        fc2_flat_2 = tf.contrib.layers.flatten(D1)\n",
    "                   \n",
    "        fc2_flat = tf.concat([fc2_flat_1,fc2_flat_2], axis=1)\n",
    "        \n",
    "        n = int(fc2_flat.get_shape()[1])\n",
    "        \n",
    "        W_fc2 = np.zeros((n, 10)).astype(np.float32)\n",
    "        W_fc2[-Wfc.shape[0]:, :] = Wfc \n",
    "        W_fc2 = tf.Variable(W_fc2)\n",
    "        \n",
    "        b_fc2 = tf.Variable(bfc)\n",
    "        \n",
    "        output = tf.matmul(fc2_flat, W_fc2) + b_fc2\n",
    "\n",
    "        cross_entropy = tf.reduce_mean(\n",
    "            tf.nn.softmax_cross_entropy_with_logits(labels=y, logits=output))\n",
    "        train_step = tf.train.AdamOptimizer(1e-4).minimize(cross_entropy)\n",
    "        correct_prediction = tf.equal(tf.argmax(output,1), tf.argmax(y,1))\n",
    "        accuracy = tf.reduce_mean(tf.cast(correct_prediction, tf.float32))\n",
    "        \n",
    "    with tf.Session( graph = g) as sess:\n",
    "        sess.run(tf.global_variables_initializer())\n",
    "        t1 = time.time()\n",
    "        Initialize_time = t1-t0\n",
    "        before_test = []\n",
    "        after_test = []\n",
    "        test_accs = []\n",
    "        for i in tqdm_notebook(range(iters), desc=\"Layer2\"):\n",
    "            if i%100 == 0:\n",
    "                before_test.append(time.time())\n",
    "                test_batch = mnist.test.next_batch(1000)\n",
    "                test_accuracy = accuracy.eval(feed_dict={x:test_batch[0], y: test_batch[1], dropout: 1.0})\n",
    "                test_accs.append(test_accuracy)\n",
    "                print(\"step %d, test accuracy %g\"%(i, test_accuracy))\n",
    "                after_test.append(time.time())\n",
    "            batch = mnist.train.next_batch(50)    \n",
    "            sess.run(train_step, feed_dict={x: batch[0], y: batch[1], dropout: 0.5})\n",
    "            \n",
    "\n",
    "        print \"Final test accuracy %g\"%sess.run(accuracy, feed_dict={\n",
    "            x: mnist.test.images, y: mnist.test.labels, dropout: 1.0})\n",
    "        return sess.run([W_conv2, b_conv2, W_fc2, b_fc2]),test_accs,before_test,after_test,Initialize_time\n"
   ]
  },
  {
   "cell_type": "code",
   "execution_count": 5,
   "metadata": {
    "ExecuteTime": {
     "end_time": "2017-04-28T20:37:55.690553",
     "start_time": "2017-04-28T20:37:54.590144"
    },
    "collapsed": false
   },
   "outputs": [],
   "source": [
    "def Layer3(Wconv1, Wconv2, bconv1, bconv2, Wfc, bfc, num_filters,iters = 100):\n",
    "    t0=time.time()\n",
    "    with tf.Graph().as_default() as g:\n",
    "        x = tf.placeholder(tf.float32, shape=[None, 784])\n",
    "        D0 = tf.reshape(x, [-1,28,28,1])\n",
    "        y = tf.placeholder(tf.float32, shape=[None, 10])\n",
    "        dropout = tf.placeholder(tf.float32)\n",
    "        \n",
    "        # Pass Through\n",
    "        D1 = tf.nn.relu(conv2d(D0, Wconv1, 'pass_through1') + bconv1)\n",
    "        D2 = tf.nn.relu(conv2d(tf.concat([D0, D1], axis=3), Wconv2, 'pass_through2') + bconv2)\n",
    "        D_concat = tf.concat([D0,D1,D2], axis=3)\n",
    "        \n",
    "        # Conv3\n",
    "        W_conv3 = weight_variable([3,3,int(D_concat.get_shape()[3]), num_filters], \"W_conv3\")\n",
    "        b_conv3 = bias_variable([num_filters], \"b_conv3\")\n",
    "        h_conv3 = tf.nn.relu(conv2d(D_concat, W_conv3, \"h_conv3\") + b_conv3)\n",
    "        h_conv3_drop = tf.nn.dropout(h_conv3, dropout)\n",
    "        \n",
    "        # FC\n",
    "        fc3_flat_1 = tf.contrib.layers.flatten(h_conv3_drop)\n",
    "        fc3_flat_2 = tf.contrib.layers.flatten(D2)\n",
    "        fc3_flat_3 = tf.contrib.layers.flatten(D1)\n",
    "            \n",
    "        fc3_flat = tf.concat([fc3_flat_1, fc3_flat_2,fc3_flat_3], axis=1)\n",
    "        \n",
    "        n = int(fc3_flat.get_shape()[1])\n",
    "        \n",
    "        W_fc3 = np.zeros((n, 10)).astype(np.float32)\n",
    "        W_fc3[-Wfc.shape[0]:, :] = Wfc \n",
    "        W_fc3 = tf.Variable(W_fc3)\n",
    "        \n",
    "        b_fc3 = tf.Variable(bfc)\n",
    "        \n",
    "        output = tf.matmul(fc3_flat, W_fc3) + b_fc3\n",
    "        \n",
    "        cross_entropy = tf.reduce_mean(\n",
    "            tf.nn.softmax_cross_entropy_with_logits(labels=y, logits=output))\n",
    "        train_step = tf.train.AdamOptimizer(1e-4).minimize(cross_entropy)\n",
    "        correct_prediction = tf.equal(tf.argmax(output,1), tf.argmax(y,1))\n",
    "        accuracy = tf.reduce_mean(tf.cast(correct_prediction, tf.float32))\n",
    "\n",
    "    with tf.Session( graph = g) as sess:\n",
    "        sess.run(tf.global_variables_initializer())\n",
    "        t1 = time.time()\n",
    "        Initialize_time = t1-t0\n",
    "        before_test = []\n",
    "        after_test = []\n",
    "        test_accs = []\n",
    "        for i in tqdm_notebook(range(iters), desc=\"Layer2\"):\n",
    "            if i%100 == 0:\n",
    "                before_test.append(time.time())\n",
    "                test_batch = mnist.test.next_batch(1000)\n",
    "                test_accuracy = accuracy.eval(feed_dict={x:test_batch[0], y: test_batch[1], dropout: 1.0})\n",
    "                test_accs.append(test_accuracy)\n",
    "                print(\"step %d, test accuracy %g\"%(i, test_accuracy))\n",
    "                after_test.append(time.time())\n",
    "            batch = mnist.train.next_batch(50)    \n",
    "            sess.run(train_step, feed_dict={x: batch[0], y: batch[1], dropout: 0.5})\n",
    "            \n",
    "\n",
    "        print \"Final test accuracy %g\"%sess.run(accuracy, feed_dict={\n",
    "            x: mnist.test.images, y: mnist.test.labels, dropout: 1.0})\n",
    "\n",
    "        return sess.run([W_conv3, b_conv3, W_fc3, b_fc3]),test_accs,before_test,after_test,Initialize_time\n",
    "\n"
   ]
  },
  {
   "cell_type": "code",
   "execution_count": 6,
   "metadata": {
    "collapsed": true
   },
   "outputs": [],
   "source": [
    "test_accs = []\n",
    "before_test = []\n",
    "after_test = []\n",
    "Initialize_time = []"
   ]
  },
  {
   "cell_type": "code",
   "execution_count": 7,
   "metadata": {
    "collapsed": false
   },
   "outputs": [
    {
     "name": "stdout",
     "output_type": "stream",
     "text": [
      "step 0, test accuracy 0.1\n",
      "step 100, test accuracy 0.259\n",
      "step 200, test accuracy 0.391\n",
      "step 300, test accuracy 0.518\n",
      "step 400, test accuracy 0.62\n",
      "step 500, test accuracy 0.782\n",
      "step 600, test accuracy 0.778\n",
      "step 700, test accuracy 0.82\n",
      "step 800, test accuracy 0.882\n",
      "step 900, test accuracy 0.819\n",
      "\n",
      "Final test accuracy 0.833\n"
     ]
    }
   ],
   "source": [
    "a = Layer1(4,iters = 1000)\n",
    "D0_Wconv, D0_bconv, D0_Wfc, D0_bfc = a[0]\n",
    "test_accs += a[1]\n",
    "before_test += a[2]\n",
    "after_test += a[3]\n",
    "Initialize_time.append(a[4])"
   ]
  },
  {
   "cell_type": "code",
   "execution_count": 8,
   "metadata": {
    "collapsed": false
   },
   "outputs": [
    {
     "name": "stdout",
     "output_type": "stream",
     "text": [
      "step 0, test accuracy 0.851\n",
      "step 100, test accuracy 0.843\n",
      "step 200, test accuracy 0.845\n",
      "step 300, test accuracy 0.859\n",
      "step 400, test accuracy 0.877\n",
      "step 500, test accuracy 0.872\n",
      "step 600, test accuracy 0.886\n",
      "step 700, test accuracy 0.903\n",
      "step 800, test accuracy 0.88\n",
      "step 900, test accuracy 0.888\n",
      "\n",
      "Final test accuracy 0.9017\n"
     ]
    }
   ],
   "source": [
    "b = Layer2(D0_Wconv, D0_bconv, D0_Wfc, D0_bfc,4,iters=1000)\n",
    "D1_Wconv, D1_bconv, D1_Wfc, D1_bfc = b[0]\n",
    "test_accs += b[1]\n",
    "before_test += b[2]\n",
    "after_test += b[3]\n",
    "Initialize_time.append(b[4])"
   ]
  },
  {
   "cell_type": "code",
   "execution_count": 9,
   "metadata": {
    "collapsed": false
   },
   "outputs": [
    {
     "name": "stdout",
     "output_type": "stream",
     "text": [
      "step 0, test accuracy 0.905\n",
      "step 100, test accuracy 0.899\n",
      "step 200, test accuracy 0.904\n",
      "step 300, test accuracy 0.897\n",
      "step 400, test accuracy 0.92\n",
      "step 500, test accuracy 0.92\n",
      "step 600, test accuracy 0.915\n",
      "step 700, test accuracy 0.921\n",
      "step 800, test accuracy 0.913\n",
      "step 900, test accuracy 0.919\n",
      "\n",
      "Final test accuracy 0.9224\n"
     ]
    }
   ],
   "source": [
    "c = Layer3(D0_Wconv, D1_Wconv, D0_bconv, D1_bconv, D1_Wfc, D1_bfc,4,iters = 1000)\n",
    "D2_Wconv, D2_bconv, D2_Wfc, D2_bfc = c[0]\n",
    "test_accs += c[1]\n",
    "before_test += c[2]\n",
    "after_test += c[3]\n",
    "Initialize_time.append(c[4])"
   ]
  },
  {
   "cell_type": "code",
   "execution_count": 10,
   "metadata": {
    "collapsed": false
   },
   "outputs": [
    {
     "data": {
      "image/png": "[encoded data removed]",
      "text/plain": [
       "<matplotlib.figure.Figure at 0x11e99bd90>"
      ]
     },
     "metadata": {},
     "output_type": "display_data"
    }
   ],
   "source": [
    "testing_time = np.array(before_test)-np.array(after_test)\n",
    "time_since_start = np.array(before_test)+np.array(np.cumsum(testing_time))-np.array([before_test[0]])\n",
    "plt.plot(time_since_start,test_accs)\n",
    "plt.show()"
   ]
  }
 ],
 "metadata": {
  "anaconda-cloud": {},
  "hide_input": false,
  "kernelspec": {
   "display_name": "Python 2",
   "language": "python",
   "name": "python2"
  },
  "language_info": {
   "codemirror_mode": {
    "name": "ipython",
    "version": 2
   },
   "file_extension": ".py",
   "mimetype": "text/x-python",
   "name": "python",
   "nbconvert_exporter": "python",
   "pygments_lexer": "ipython2",
   "version": "2.7.13"
  },
  "latex_envs": {
   "LaTeX_envs_menu_present": true,
   "bibliofile": "biblio.bib",
   "cite_by": "apalike",
   "current_citInitial": 1,
   "eqLabelWithNumbers": true,
   "eqNumInitial": 1,
   "labels_anchors": false,
   "latex_user_defs": false,
   "report_style_numbering": false,
   "user_envs_cfg": false
  }
 },
 "nbformat": 4,
 "nbformat_minor": 1
}
