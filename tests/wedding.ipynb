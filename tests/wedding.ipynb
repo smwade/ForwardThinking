{
 "cells": [
  {
   "cell_type": "markdown",
   "metadata": {
    "deletable": true,
    "editable": true
   },
   "source": [
    "# Playground"
   ]
  },
  {
   "cell_type": "code",
   "execution_count": 2,
   "metadata": {
    "collapsed": false,
    "deletable": true,
    "editable": true
   },
   "outputs": [
    {
     "name": "stderr",
     "output_type": "stream",
     "text": [
      "Using TensorFlow backend.\n"
     ]
    }
   ],
   "source": [
    "import keras\n",
    "from keras.layers import Input, Dense, Activation, Dropout\n",
    "from keras.models import Model, Sequential\n",
    "from keras import backend as K\n",
    "from keras.layers.advanced_activations import PReLU\n",
    "\n",
    "def prelu_init(shape, dtype=None):\n",
    "    return -1\n",
    "import time\n",
    "\n",
    "import numpy as np\n",
    "\n",
    "from forwardThinking.datasets import load_mnist\n",
    "from forwardThinking.models import WeddingCake"
   ]
  },
  {
   "cell_type": "code",
   "execution_count": 3,
   "metadata": {
    "collapsed": false,
    "deletable": true,
    "editable": true
   },
   "outputs": [],
   "source": [
    "%load_ext autoreload\n",
    "%autoreload 2"
   ]
  },
  {
   "cell_type": "code",
   "execution_count": 4,
   "metadata": {
    "collapsed": true,
    "deletable": true,
    "editable": true
   },
   "outputs": [],
   "source": [
    "x_train, y_train, x_test, y_test = load_mnist()\n",
    "input_dim = 784\n",
    "hidden_dim = 100\n",
    "output_dim = 10"
   ]
  },
  {
   "cell_type": "code",
   "execution_count": 5,
   "metadata": {
    "collapsed": false,
    "deletable": true,
    "editable": true
   },
   "outputs": [],
   "source": [
    "model = Sequential()\n",
    "model.add(Dense(hidden_dim, input_shape=(input_dim,), name='dense_0'))\n",
    "model.add(Dense(output_dim, name='output_dense'))\n",
    "\n",
    "model.compile(loss='categorical_crossentropy', optimizer='adam', metrics=['accuracy'])"
   ]
  },
  {
   "cell_type": "code",
   "execution_count": 6,
   "metadata": {
    "collapsed": false,
    "deletable": true,
    "editable": true
   },
   "outputs": [],
   "source": [
    "h = model.fit(x_train, y_train, epochs=2, verbose=False, validation_data=(x_test, y_test))"
   ]
  },
  {
   "cell_type": "code",
   "execution_count": 7,
   "metadata": {
    "collapsed": false,
    "deletable": true,
    "editable": true
   },
   "outputs": [],
   "source": [
    "def extend(model, hidden_dim, output_dim):\n",
    "    \"\"\" Add a hidden layer to the model. \"\"\"\n",
    "    \n",
    "    # Create model\n",
    "    new_model = Sequential()\n",
    "    for i, l in enumerate(model.layers[:-1]):\n",
    "        if \"dense\" in l.name:\n",
    "            new_model.add(Dense(l.output_shape[1], input_shape=(l.input_shape[1],), name=\"dense_{}\".format(i)))\n",
    "        elif \"activation\" in l.name:\n",
    "            new_model.add(Dense(l.output_shape[1], input_shape=(l.input_shape[1],), name=\"dense_{}\".format(i)))\n",
    "        \n",
    "    # new layer\n",
    "    new_model.add(Dense(hidden_dim, activation='linear',\n",
    "                        kernel_initializer = keras.initializers.Identity(gain=1.0), \n",
    "                        bias_initializer='zeros', name=\"dense_{}\".format(i+1)))\n",
    "    new_model.add(PReLU(alpha_initializer=prelu_init, name='activation_{}'.format(i+1)))\n",
    "    \n",
    "    # same output layer\n",
    "    old_weights = model.get_layer(\"output_dense\").get_weights()\n",
    "    new_model.add(Dense(output_dim, name=\"output_dense\"))\n",
    "    new_model.get_layer(\"output_dense\").set_weights(old_weights)\n",
    "\n",
    "    # Set the old weights\n",
    "    for i, l in enumerate(model.layers[:-1]):\n",
    "        if \"dense\" in l.name:\n",
    "            old_weights = model.get_layer(\"dense_{}\".format(i)).get_weights()\n",
    "            new_model.get_layer('dense_{}'.format(i)).set_weights(old_weights)\n",
    "        elif \"activation\" in l.name:\n",
    "            old_weights = model.get_layer(\"activation_{}\".format(i)).get_weights()\n",
    "            new_model.get_layer('activation_{}'.format(i)).set_weights(old_weights)\n",
    " \n",
    "    model.compile(loss='categorical_crossentropy', optimizer='adam', metrics=['accuracy'])\n",
    "    return new_model"
   ]
  },
  {
   "cell_type": "code",
   "execution_count": 8,
   "metadata": {
    "collapsed": false,
    "deletable": true,
    "editable": true
   },
   "outputs": [
    {
     "name": "stdout",
     "output_type": "stream",
     "text": [
      "_________________________________________________________________\n",
      "Layer (type)                 Output Shape              Param #   \n",
      "=================================================================\n",
      "dense_0 (Dense)              (None, 100)               78500     \n",
      "_________________________________________________________________\n",
      "dense_1 (Dense)              (None, 100)               10100     \n",
      "_________________________________________________________________\n",
      "activation_1 (PReLU)         (None, 100)               1.0       \n",
      "_________________________________________________________________\n",
      "output_dense (Dense)         (None, 10)                1010      \n",
      "=================================================================\n",
      "Total params: 89,611\n",
      "Trainable params: 89,611\n",
      "Non-trainable params: 0\n",
      "_________________________________________________________________\n"
     ]
    }
   ],
   "source": [
    "nmodel = extend(model, hidden_dim, output_dim)\n",
    "nmodel.summary()"
   ]
  },
  {
   "cell_type": "code",
   "execution_count": 56,
   "metadata": {
    "collapsed": true,
    "deletable": true,
    "editable": true
   },
   "outputs": [],
   "source": [
    "# ------------------------------------------"
   ]
  },
  {
   "cell_type": "code",
   "execution_count": null,
   "metadata": {
    "collapsed": true,
    "deletable": true,
    "editable": true
   },
   "outputs": [],
   "source": [
    "model = WeddingCake(784, )"
   ]
  },
  {
   "cell_type": "code",
   "execution_count": 1,
   "metadata": {
    "collapsed": false
   },
   "outputs": [
    {
     "data": {
      "text/plain": [
       "1"
      ]
     },
     "execution_count": 1,
     "metadata": {},
     "output_type": "execute_result"
    }
   ],
   "source": [
    "len([5])"
   ]
  },
  {
   "cell_type": "code",
   "execution_count": 10,
   "metadata": {
    "collapsed": false
   },
   "outputs": [],
   "source": [
    "l = nmodel.get_layer('activation_1')"
   ]
  },
  {
   "cell_type": "code",
   "execution_count": 11,
   "metadata": {
    "collapsed": false
   },
   "outputs": [
    {
     "data": {
      "text/plain": [
       "[-1.0]"
      ]
     },
     "execution_count": 11,
     "metadata": {},
     "output_type": "execute_result"
    }
   ],
   "source": [
    "l.get_weights()"
   ]
  },
  {
   "cell_type": "code",
   "execution_count": null,
   "metadata": {
    "collapsed": true
   },
   "outputs": [],
   "source": []
  }
 ],
 "metadata": {
  "kernelspec": {
   "display_name": "Python 2",
   "language": "python",
   "name": "python2"
  },
  "language_info": {
   "codemirror_mode": {
    "name": "ipython",
    "version": 2
   },
   "file_extension": ".py",
   "mimetype": "text/x-python",
   "name": "python",
   "nbconvert_exporter": "python",
   "pygments_lexer": "ipython2",
   "version": "2.7.12"
  }
 },
 "nbformat": 4,
 "nbformat_minor": 2
}
